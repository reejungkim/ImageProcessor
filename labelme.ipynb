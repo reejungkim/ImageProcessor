{
 "cells": [
  {
   "cell_type": "code",
   "execution_count": null,
   "metadata": {},
   "outputs": [],
   "source": [
    "import labelme2coco\n",
    "\n",
    "labelme_folder = \"./train\"\n",
    "save_json_path = \"./result_coco.json\"\n",
    "\n",
    "labelme2coco.convert(labelme_folder, save_json_path)\n"
   ]
  }
 ],
 "metadata": {
  "language_info": {
   "name": "python"
  },
  "orig_nbformat": 4
 },
 "nbformat": 4,
 "nbformat_minor": 2
}
